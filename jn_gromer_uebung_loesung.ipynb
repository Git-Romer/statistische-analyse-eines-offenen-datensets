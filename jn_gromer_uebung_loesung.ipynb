{
 "cells": [
  {
   "cell_type": "markdown",
   "metadata": {},
   "source": [
    "# Statistische Analyse - \n",
    "\n",
    "Gilles Alain Luc Romer "
   ]
  },
  {
   "cell_type": "markdown",
   "metadata": {},
   "source": [
    "## Hintergrund und Fragestellung\n",
    "\n",
    "### Hintergrund\n",
    "Im Internet findet man viele Datensätze. Diese sind teils frei nutzbar, müssen gekauft werden oder dürfen auch oft nur angeschaut werden.\n",
    "Um keine Lizenzen kaufen zu müssen und der Aufgabenstellung entgegen zu kommen habe ich mich darauf konzentriert eine frei nutzbare Quelle zu suchen. Dies gelingt selbst ohne konkrete Idee ziemlich schnell.\n",
    "\n",
    "[Kaggle](https://www.kaggle.com) hat sich hierfür sehr gut geeignet, da man dort kategorisch suchen und sortieren kann und somit Datensätze findet, die seinen Interessen entsprechen. Zudem bieten die Ersteller der Datensätze allen Nutzern die Möglichkeit über sogenannte Kernels, diesen Datensatz für weitere Zwecke zu nutzen und sofort öffentlich zu teilen.\n",
    "Somit habe ich ein [Kernel](https://www.kaggle.com/mohammedmurtuzalabib/pandas-101-one-stop-shop-for-data-science) gefunden, welcher mir bei meiner Analyse und Auswertung sehr weiter helfen wird. Es handelt sich um eine Zusammenfassung, wie man mit Python und Pandas solche riesigen Datenmengen visualisiert.\n",
    "\n",
    "Selbstverständlich ist mir auch bewusst, dass es [Kernels](https://www.kaggle.com/neuromusic/avocado-prices/kernels) gibt, welche mir diese Arbeit der Datenanalyse abnehmen. Dennoch werde ich diese Kernels höchstens zur Inspiration aber keinesfalls zum ab kopieren nutzen. Dies würde mir dem Spaß an der Sache nehmen, nicht beweisen was ich kann und sicherlich auch an einem Täuschungsversuch oder einer nicht zu bewertbaren Abgabe grenzen.\n",
    "\n",
    "### Warum habe ich diesen Datensatz gewählt?\n",
    "\n",
    "Avocados sind meine absoluten Lieblingsfrüchte. Ob auf einem Burger, zu einem frischen Salat, einer Guacamole oder einfach mit einem Schuss Olivenöl: Avocados sind großartig! Sie sind einfach zu essen, können mit allem kombiniert werden und sind somit in irgendeiner Form ein absoluter Muss auf meinem sonntags Frühstückstisch. \n",
    "Somit hat mich beim Überfliegen der tausenden Datensätze dieser besonders abgeholt:\n",
    "[Avocado Prices - Historical data on avocado prices and sales volume in multiple US markets](https://www.kaggle.com/neuromusic/avocado-prices)\n",
    "\n",
    "Gekennzeichnet als besonders übersichtlich, gut beschrieben, sauber und von vielen genutzt hat dann auch die Tatsache, dass es sich um den US markt und nicht um den EU markt handelt, keine Rolle mehr gespielt. Somit begann für mich die Arbeit.\n",
    "\n",
    "### Fragestellung"
   ]
  },
  {
   "cell_type": "markdown",
   "metadata": {},
   "source": [
    "## Beschreibung des Datensets\n",
    "\n",
    "### Allgemeine Beschreibung\n",
    "\n",
    "Der genutzte Datensatz zeigt Verkaufsdaten verschiedener Avocado Sorten, in verschiedenen Bundesstaaten der US, in den Jahren 2015-2018.\n",
    "\n",
    "### Spalten des Datensatzes\n",
    "\n",
    "`Date` - Das Datum der Beobachtung  \n",
    "`AveragePrice` - der Durchschnittspreis einer einzelnen Avocadotype - conventional or organic  \n",
    "`year` - das Jahr  \n",
    "`Region` - die Stadt oder Region der Beobachtung  \n",
    "`Total Volume` - Gesamtzahl der verkauften Avocados  \n",
    "`4046` - Gesamtzahl der verkauften Avocados mit PLU 4046  \n",
    "`4225` - Gesamtzahl der verkauften Avocados mit PLU 4225  \n",
    "`4770` - Gesamtzahl der verkauften Avocados mit PLU 4770  \n",
    "\n",
    "### Link zum Datensatz\n",
    "- Kaggle: [https://www.kaggle.com/neuromusic/avocado-prices](https://www.kaggle.com/neuromusic/avocado-prices)\n",
    "- Ursprung: [http://www.hassavocadoboard.com/retail/volume-and-price-data](http://www.hassavocadoboard.com/retail/volume-and-price-data)"
   ]
  }
 ],
 "metadata": {
  "language_info": {
   "codemirror_mode": {
    "name": "ipython",
    "version": 3
   },
   "file_extension": ".py",
   "mimetype": "text/x-python",
   "name": "python",
   "nbconvert_exporter": "python",
   "pygments_lexer": "ipython3",
   "version": "3.8.0-final"
  },
  "orig_nbformat": 2,
  "kernelspec": {
   "name": "python38064bit604ea35cef5f47b299242b69d90df170",
   "display_name": "Python 3.8.0 64-bit"
  }
 },
 "nbformat": 4,
 "nbformat_minor": 2
}