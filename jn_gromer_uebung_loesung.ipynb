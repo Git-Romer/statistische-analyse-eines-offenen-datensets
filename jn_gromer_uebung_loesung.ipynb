{
 "cells": [
  {
   "cell_type": "markdown",
   "metadata": {},
   "source": [
    "# Statistische Analyse - Ist die Avocado für Amerikaner ein Luxusprodukt?\n",
    "\n",
    "Gilles Alain Luc Romer "
   ]
  },
  {
   "cell_type": "markdown",
   "metadata": {},
   "source": [
    "## Hintergrund und Fragestellung\n",
    "\n",
    "### Hintergrund\n",
    "Im Internet findet man viele Datensätze. Diese sind teils frei nutzbar, müssen gekauft werden oder dürfen auch oft nur angeschaut werden.\n",
    "Um keine Lizenzen kaufen zu müssen und der Aufgabenstellung entgegen zu kommen habe ich mich darauf konzentriert eine frei nutzbare Quelle zu suchen. Dies gelingt selbst ohne konkrete Idee ziemlich schnell.\n",
    "\n",
    "[Kaggle](https://www.kaggle.com) hat sich hierfür sehr gut geeignet, da man dort kategorisch suchen und sortieren kann und somit Datensätze findet, die seinen Interessen entsprechen. Zudem bieten die Ersteller der Datensätze allen Nutzern die Möglichkeit über sogenannte Kernels, diesen Datensatz für weitere Zwecke zu nutzen und sofort öffentlich zu teilen.\n",
    "Somit habe ich ein [Kernel](https://www.kaggle.com/mohammedmurtuzalabib/pandas-101-one-stop-shop-for-data-science) gefunden, welcher mir bei meiner Analyse und Auswertung sehr weiter helfen wird. Es handelt sich um eine Zusammenfassung, wie man mit Python und Pandas solche riesigen Datenmengen visualisiert.\n",
    "\n",
    "Selbstverständlich ist mir auch bewusst, dass es [Kernels](https://www.kaggle.com/neuromusic/avocado-prices/kernels) gibt, welche mir diese Arbeit der Datenanalyse abnehmen. Dennoch werde ich diese Kernels höchstens zur Inspiration aber keinesfalls zum ab kopieren nutzen. Dies würde mir dem Spaß an der Sache nehmen, nicht beweisen was ich kann und sicherlich auch an einem Täuschungsversuch oder einer nicht zu bewertbaren Abgabe grenzen.\n",
    "\n",
    "### Warum habe ich diesen Datensatz gewählt?\n",
    "\n",
    "Avocados sind meine absoluten Lieblingsfrüchte. Ob auf einem Burger, zu einem frischen Salat, einer Guacamole oder einfach mit einem Schuss Olivenöl: Avocados sind großartig! Sie sind einfach zu essen, können mit allem kombiniert werden und sind somit in irgendeiner Form ein absoluter Muss auf meinem sonntags Frühstückstisch. \n",
    "Somit hat mich beim Überfliegen der tausenden Datensätze dieser besonders abgeholt:\n",
    "[Avocado Prices - Historical data on avocado prices and sales volume in multiple US markets](https://www.kaggle.com/neuromusic/avocado-prices)\n",
    "\n",
    "Gekennzeichnet als besonders übersichtlich, gut beschrieben, sauber und von vielen genutzt hat dann auch die Tatsache, dass es sich um den US markt und nicht um den EU markt handelt, keine Rolle mehr gespielt. Somit begann für mich die Arbeit.\n",
    "\n",
    "### Fragestellung\n",
    "\n",
    "Die haupt Fragestellung der Analyse wird sein:  \n",
    "- **In welcher Region Americas muss ich wohnen um wie gewohnt meine Sonntags-Avocado am günstigsten genießen zu können?**\n",
    "\n",
    "Dazu hilft mir auch folgende Frage um zu einem Entschluss zu kommen:  \n",
    "- **Hat die Saison in den verschiedenen Regionen einen Einfluss auf den Preis?**"
   ]
  },
  {
   "cell_type": "markdown",
   "metadata": {},
   "source": [
    "## Beschreibung des Datensets\n",
    "\n",
    "### Allgemeine Beschreibung\n",
    "\n",
    "Der genutzte Datensatz zeigt Verkaufsdaten verschiedener Avocado Sorten, in verschiedenen Bundesstaaten der US, in den Jahren 2015-2018.\n",
    "\n",
    "### Spalten des Datensatzes\n",
    "\n",
    "`Date` - Das Datum der Beobachtung  \n",
    "`AveragePrice` - der Durchschnittspreis einer einzelnen Avocado  \n",
    "`type` - konventionell oder ökologisch  \n",
    "`year` - das Jahr  \n",
    "`Region` - die Stadt oder Region der Beobachtung  \n",
    "`Total Volume` - Gesamtzahl der verkauften Avocados  \n",
    "`4046` - Gesamtzahl der verkauften Avocados mit PLU 4046  \n",
    "`4225` - Gesamtzahl der verkauften Avocados mit PLU 4225  \n",
    "`4770` - Gesamtzahl der verkauften Avocados mit PLU 4770  \n",
    "\n",
    "### Link zum Datensatz\n",
    "- Kaggle: [https://www.kaggle.com/neuromusic/avocado-prices](https://www.kaggle.com/neuromusic/avocado-prices)\n",
    "- Ursprung: [http://www.hassavocadoboard.com/retail/volume-and-price-data](http://www.hassavocadoboard.com/retail/volume-and-price-data)"
   ]
  },
  {
   "cell_type": "markdown",
   "metadata": {},
   "source": [
    "## Visualisierungen und Analyse\n",
    "\n",
    "### Inhaltsverzeichnis\n",
    "\n",
    "- [Inhaltsverzeichnis](#Inhaltsverzeichnis)\n",
    "- [Allgemeine Informationen des Datensatzes](#Allgemeine-Informationen-des-Datensatzes)"
   ]
  },
  {
   "cell_type": "markdown",
   "metadata": {},
   "source": [
    "### Allgemeine Informationen des Datensatzes\n",
    "\n",
    "Um nicht sofort von vielen Grafen überrumpelt zu werden fange ich an mir einen Überblick zu verschaffen."
   ]
  },
  {
   "cell_type": "code",
   "execution_count": 1,
   "metadata": {
    "tags": []
   },
   "outputs": [
    {
     "output_type": "execute_result",
     "data": {
      "text/plain": "       Unnamed: 0        Date  AveragePrice  Total Volume     4046       4225  \\\n0               0  2015-12-27          1.33      64236.62  1036.74   54454.85   \n1               1  2015-12-20          1.35      54876.98   674.28   44638.81   \n2               2  2015-12-13          0.93     118220.22   794.70  109149.67   \n3               3  2015-12-06          1.08      78992.15  1132.00   71976.41   \n4               4  2015-11-29          1.28      51039.60   941.48   43838.39   \n...           ...         ...           ...           ...      ...        ...   \n18244           7  2018-02-04          1.63      17074.83  2046.96    1529.20   \n18245           8  2018-01-28          1.71      13888.04  1191.70    3431.50   \n18246           9  2018-01-21          1.87      13766.76  1191.92    2452.79   \n18247          10  2018-01-14          1.93      16205.22  1527.63    2981.04   \n18248          11  2018-01-07          1.62      17489.58  2894.77    2356.13   \n\n         4770  Total Bags  Small Bags  Large Bags  XLarge Bags          type  \\\n0       48.16     8696.87     8603.62       93.25          0.0  conventional   \n1       58.33     9505.56     9408.07       97.49          0.0  conventional   \n2      130.50     8145.35     8042.21      103.14          0.0  conventional   \n3       72.58     5811.16     5677.40      133.76          0.0  conventional   \n4       75.78     6183.95     5986.26      197.69          0.0  conventional   \n...       ...         ...         ...         ...          ...           ...   \n18244    0.00    13498.67    13066.82      431.85          0.0       organic   \n18245    0.00     9264.84     8940.04      324.80          0.0       organic   \n18246  727.94     9394.11     9351.80       42.31          0.0       organic   \n18247  727.01    10969.54    10919.54       50.00          0.0       organic   \n18248  224.53    12014.15    11988.14       26.01          0.0       organic   \n\n       year            region  \n0      2015            Albany  \n1      2015            Albany  \n2      2015            Albany  \n3      2015            Albany  \n4      2015            Albany  \n...     ...               ...  \n18244  2018  WestTexNewMexico  \n18245  2018  WestTexNewMexico  \n18246  2018  WestTexNewMexico  \n18247  2018  WestTexNewMexico  \n18248  2018  WestTexNewMexico  \n\n[18249 rows x 14 columns]",
      "text/html": "<div>\n<style scoped>\n    .dataframe tbody tr th:only-of-type {\n        vertical-align: middle;\n    }\n\n    .dataframe tbody tr th {\n        vertical-align: top;\n    }\n\n    .dataframe thead th {\n        text-align: right;\n    }\n</style>\n<table border=\"1\" class=\"dataframe\">\n  <thead>\n    <tr style=\"text-align: right;\">\n      <th></th>\n      <th>Unnamed: 0</th>\n      <th>Date</th>\n      <th>AveragePrice</th>\n      <th>Total Volume</th>\n      <th>4046</th>\n      <th>4225</th>\n      <th>4770</th>\n      <th>Total Bags</th>\n      <th>Small Bags</th>\n      <th>Large Bags</th>\n      <th>XLarge Bags</th>\n      <th>type</th>\n      <th>year</th>\n      <th>region</th>\n    </tr>\n  </thead>\n  <tbody>\n    <tr>\n      <th>0</th>\n      <td>0</td>\n      <td>2015-12-27</td>\n      <td>1.33</td>\n      <td>64236.62</td>\n      <td>1036.74</td>\n      <td>54454.85</td>\n      <td>48.16</td>\n      <td>8696.87</td>\n      <td>8603.62</td>\n      <td>93.25</td>\n      <td>0.0</td>\n      <td>conventional</td>\n      <td>2015</td>\n      <td>Albany</td>\n    </tr>\n    <tr>\n      <th>1</th>\n      <td>1</td>\n      <td>2015-12-20</td>\n      <td>1.35</td>\n      <td>54876.98</td>\n      <td>674.28</td>\n      <td>44638.81</td>\n      <td>58.33</td>\n      <td>9505.56</td>\n      <td>9408.07</td>\n      <td>97.49</td>\n      <td>0.0</td>\n      <td>conventional</td>\n      <td>2015</td>\n      <td>Albany</td>\n    </tr>\n    <tr>\n      <th>2</th>\n      <td>2</td>\n      <td>2015-12-13</td>\n      <td>0.93</td>\n      <td>118220.22</td>\n      <td>794.70</td>\n      <td>109149.67</td>\n      <td>130.50</td>\n      <td>8145.35</td>\n      <td>8042.21</td>\n      <td>103.14</td>\n      <td>0.0</td>\n      <td>conventional</td>\n      <td>2015</td>\n      <td>Albany</td>\n    </tr>\n    <tr>\n      <th>3</th>\n      <td>3</td>\n      <td>2015-12-06</td>\n      <td>1.08</td>\n      <td>78992.15</td>\n      <td>1132.00</td>\n      <td>71976.41</td>\n      <td>72.58</td>\n      <td>5811.16</td>\n      <td>5677.40</td>\n      <td>133.76</td>\n      <td>0.0</td>\n      <td>conventional</td>\n      <td>2015</td>\n      <td>Albany</td>\n    </tr>\n    <tr>\n      <th>4</th>\n      <td>4</td>\n      <td>2015-11-29</td>\n      <td>1.28</td>\n      <td>51039.60</td>\n      <td>941.48</td>\n      <td>43838.39</td>\n      <td>75.78</td>\n      <td>6183.95</td>\n      <td>5986.26</td>\n      <td>197.69</td>\n      <td>0.0</td>\n      <td>conventional</td>\n      <td>2015</td>\n      <td>Albany</td>\n    </tr>\n    <tr>\n      <th>...</th>\n      <td>...</td>\n      <td>...</td>\n      <td>...</td>\n      <td>...</td>\n      <td>...</td>\n      <td>...</td>\n      <td>...</td>\n      <td>...</td>\n      <td>...</td>\n      <td>...</td>\n      <td>...</td>\n      <td>...</td>\n      <td>...</td>\n      <td>...</td>\n    </tr>\n    <tr>\n      <th>18244</th>\n      <td>7</td>\n      <td>2018-02-04</td>\n      <td>1.63</td>\n      <td>17074.83</td>\n      <td>2046.96</td>\n      <td>1529.20</td>\n      <td>0.00</td>\n      <td>13498.67</td>\n      <td>13066.82</td>\n      <td>431.85</td>\n      <td>0.0</td>\n      <td>organic</td>\n      <td>2018</td>\n      <td>WestTexNewMexico</td>\n    </tr>\n    <tr>\n      <th>18245</th>\n      <td>8</td>\n      <td>2018-01-28</td>\n      <td>1.71</td>\n      <td>13888.04</td>\n      <td>1191.70</td>\n      <td>3431.50</td>\n      <td>0.00</td>\n      <td>9264.84</td>\n      <td>8940.04</td>\n      <td>324.80</td>\n      <td>0.0</td>\n      <td>organic</td>\n      <td>2018</td>\n      <td>WestTexNewMexico</td>\n    </tr>\n    <tr>\n      <th>18246</th>\n      <td>9</td>\n      <td>2018-01-21</td>\n      <td>1.87</td>\n      <td>13766.76</td>\n      <td>1191.92</td>\n      <td>2452.79</td>\n      <td>727.94</td>\n      <td>9394.11</td>\n      <td>9351.80</td>\n      <td>42.31</td>\n      <td>0.0</td>\n      <td>organic</td>\n      <td>2018</td>\n      <td>WestTexNewMexico</td>\n    </tr>\n    <tr>\n      <th>18247</th>\n      <td>10</td>\n      <td>2018-01-14</td>\n      <td>1.93</td>\n      <td>16205.22</td>\n      <td>1527.63</td>\n      <td>2981.04</td>\n      <td>727.01</td>\n      <td>10969.54</td>\n      <td>10919.54</td>\n      <td>50.00</td>\n      <td>0.0</td>\n      <td>organic</td>\n      <td>2018</td>\n      <td>WestTexNewMexico</td>\n    </tr>\n    <tr>\n      <th>18248</th>\n      <td>11</td>\n      <td>2018-01-07</td>\n      <td>1.62</td>\n      <td>17489.58</td>\n      <td>2894.77</td>\n      <td>2356.13</td>\n      <td>224.53</td>\n      <td>12014.15</td>\n      <td>11988.14</td>\n      <td>26.01</td>\n      <td>0.0</td>\n      <td>organic</td>\n      <td>2018</td>\n      <td>WestTexNewMexico</td>\n    </tr>\n  </tbody>\n</table>\n<p>18249 rows × 14 columns</p>\n</div>"
     },
     "metadata": {},
     "execution_count": 1
    }
   ],
   "source": [
    "import pandas as pd\n",
    "dataset = pd.read_csv(\"./avocado.csv\")\n",
    "dataset"
   ]
  },
  {
   "cell_type": "markdown",
   "metadata": {},
   "source": [
    "Anhand der Angezeigten Tabelle können wir nun entnehmen dass es sich um 18249 reihen und 14 Spalten handelt.  \n",
    "Auch wenn die Tabelle sauber scheint, möchte ich nach Daten schauen, welche meine Auswertung verfälschen könnten. Hierfür suche ich (wo sinnfoll) in den Spalten nach allen ein mal vorkommenden Namen oder Zahlen. Angefangen mit den Regionen:"
   ]
  },
  {
   "cell_type": "code",
   "execution_count": 2,
   "metadata": {
    "tags": []
   },
   "outputs": [
    {
     "output_type": "stream",
     "name": "stdout",
     "text": "{'LosAngeles', 'Tampa', 'GreatLakes', 'LasVegas', 'Philadelphia', 'Boston', 'DallasFtWorth', 'Portland', 'Midsouth', 'Columbus', 'Houston', 'Orlando', 'RichmondNorfolk', 'Southeast', 'Atlanta', 'California', 'HartfordSpringfield', 'Albany', 'CincinnatiDayton', 'GrandRapids', 'NorthernNewEngland', 'Chicago', 'Boise', 'PhoenixTucson', 'Nashville', 'BuffaloRochester', 'Roanoke', 'SouthCentral', 'Jacksonville', 'Spokane', 'TotalUS', 'NewOrleansMobile', 'Plains', 'Denver', 'Charlotte', 'WestTexNewMexico', 'SanDiego', 'Detroit', 'Seattle', 'Syracuse', 'HarrisburgScranton', 'Northeast', 'Sacramento', 'Louisville', 'West', 'Pittsburgh', 'RaleighGreensboro', 'SouthCarolina', 'BaltimoreWashington', 'Indianapolis', 'StLouis', 'MiamiFtLauderdale', 'NewYork', 'SanFrancisco'}\n"
    }
   ],
   "source": [
    "print(set(dataset[\"region\"]))"
   ]
  },
  {
   "cell_type": "markdown",
   "metadata": {},
   "source": [
    "Sofort fällt auf, dass wir eine reihe von Regionen haben aus denen die Daten stammen. Hier sticht die Region `TotalUS` heraus. Diese Region könnte die Auswertung verfälschen, wenn es sich wirklich um eine Summe aller Regionen handelt.   \n",
    "Um dies zu überprüfen wird die Summe aller Verkauften Säcke (`Total Bags`) in der Region `TotalUS` zu jedem Datum (`Date`) verglichen mit der gleichen Summe in allen Regionen ausschließlich der Region `TotalUS`."
   ]
  },
  {
   "cell_type": "code",
   "execution_count": 3,
   "metadata": {
    "tags": []
   },
   "outputs": [
    {
     "output_type": "stream",
     "name": "stdout",
     "text": "True\n"
    }
   ],
   "source": [
    "# Indexierung aller Daten in der Spalte \"Date\"\n",
    "date = set(dataset[\"Date\"])\n",
    "vector = []\n",
    "for dates in date:\n",
    "    # Daten für TotalUS\n",
    "    cur_date = dataset[\"Date\"] == dates\n",
    "    TotalUS_region = dataset[\"region\"] == \"TotalUS\"\n",
    "    TotalUS_data = dataset[TotalUS_region & cur_date]\n",
    "    TotalUS_sum = TotalUS_data[\"Total Bags\"].sum()\n",
    "    # Daten für alles außer TotalUS\n",
    "    not_TotalUS_region = dataset[\"region\"] != \"TotalUS\"\n",
    "    not_TotalUS_data = dataset[not_TotalUS_region & cur_date]\n",
    "    not_TotalUS_sum = TotalUS_data[\"Total Bags\"].sum()\n",
    "    # Überprüfung ob beide Summen gleich sind\n",
    "    vector.append(TotalUS_sum == not_TotalUS_sum)\n",
    "# Ausgabe\n",
    "print(*set(vector))"
   ]
  }
 ],
 "metadata": {
  "language_info": {
   "codemirror_mode": {
    "name": "ipython",
    "version": 3
   },
   "file_extension": ".py",
   "mimetype": "text/x-python",
   "name": "python",
   "nbconvert_exporter": "python",
   "pygments_lexer": "ipython3",
   "version": "3.8.0-final"
  },
  "orig_nbformat": 2,
  "kernelspec": {
   "name": "python38064bit604ea35cef5f47b299242b69d90df170",
   "display_name": "Python 3.8.0 64-bit"
  }
 },
 "nbformat": 4,
 "nbformat_minor": 2
}